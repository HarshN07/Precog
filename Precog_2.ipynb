{
  "cells": [
    {
      "cell_type": "code",
      "execution_count": 1,
      "metadata": {
        "colab": {
          "base_uri": "https://localhost:8080/"
        },
        "id": "yhlg8O5DK95C",
        "outputId": "7127cd22-1d1a-4f97-f7b6-7121c052153d"
      },
      "outputs": [
        {
          "output_type": "stream",
          "name": "stdout",
          "text": [
            "Collecting gensim\n",
            "  Downloading gensim-4.3.3-cp311-cp311-manylinux_2_17_x86_64.manylinux2014_x86_64.whl.metadata (8.1 kB)\n",
            "Requirement already satisfied: numpy<2.0,>=1.18.5 in /usr/local/lib/python3.11/dist-packages (from gensim) (1.26.4)\n",
            "Collecting scipy<1.14.0,>=1.7.0 (from gensim)\n",
            "  Downloading scipy-1.13.1-cp311-cp311-manylinux_2_17_x86_64.manylinux2014_x86_64.whl.metadata (60 kB)\n",
            "\u001b[2K     \u001b[90m━━━━━━━━━━━━━━━━━━━━━━━━━━━━━━━━━━━━━━━━\u001b[0m \u001b[32m60.6/60.6 kB\u001b[0m \u001b[31m2.0 MB/s\u001b[0m eta \u001b[36m0:00:00\u001b[0m\n",
            "\u001b[?25hRequirement already satisfied: smart-open>=1.8.1 in /usr/local/lib/python3.11/dist-packages (from gensim) (7.1.0)\n",
            "Requirement already satisfied: wrapt in /usr/local/lib/python3.11/dist-packages (from smart-open>=1.8.1->gensim) (1.17.2)\n",
            "Downloading gensim-4.3.3-cp311-cp311-manylinux_2_17_x86_64.manylinux2014_x86_64.whl (26.7 MB)\n",
            "\u001b[2K   \u001b[90m━━━━━━━━━━━━━━━━━━━━━━━━━━━━━━━━━━━━━━━━\u001b[0m \u001b[32m26.7/26.7 MB\u001b[0m \u001b[31m61.5 MB/s\u001b[0m eta \u001b[36m0:00:00\u001b[0m\n",
            "\u001b[?25hDownloading scipy-1.13.1-cp311-cp311-manylinux_2_17_x86_64.manylinux2014_x86_64.whl (38.6 MB)\n",
            "\u001b[2K   \u001b[90m━━━━━━━━━━━━━━━━━━━━━━━━━━━━━━━━━━━━━━━━\u001b[0m \u001b[32m38.6/38.6 MB\u001b[0m \u001b[31m18.9 MB/s\u001b[0m eta \u001b[36m0:00:00\u001b[0m\n",
            "\u001b[?25hInstalling collected packages: scipy, gensim\n",
            "  Attempting uninstall: scipy\n",
            "    Found existing installation: scipy 1.14.1\n",
            "    Uninstalling scipy-1.14.1:\n",
            "      Successfully uninstalled scipy-1.14.1\n",
            "Successfully installed gensim-4.3.3 scipy-1.13.1\n"
          ]
        }
      ],
      "source": [
        "!pip install gensim"
      ]
    },
    {
      "cell_type": "markdown",
      "metadata": {
        "id": "CM4_pr6RO3ju"
      },
      "source": [
        "Now we will load the English and Hindi pre-trained \"FastText\" embeddings"
      ]
    },
    {
      "cell_type": "code",
      "execution_count": 2,
      "metadata": {
        "colab": {
          "base_uri": "https://localhost:8080/"
        },
        "id": "Tf-TOdNbOi9-",
        "outputId": "ef266fce-62e3-4d8b-f012-06249e08ed9f"
      },
      "outputs": [
        {
          "output_type": "stream",
          "name": "stdout",
          "text": [
            "[==================================================] 100.0% 958.5/958.4MB downloaded\n",
            "English embeddings loaded\n"
          ]
        }
      ],
      "source": [
        "import gensim.downloader as api\n",
        "#Load FastText english\n",
        "model_eng = api.load(\"fasttext-wiki-news-subwords-300\")\n",
        "print(\"English embeddings loaded\")\n"
      ]
    },
    {
      "cell_type": "code",
      "execution_count": null,
      "metadata": {
        "colab": {
          "base_uri": "https://localhost:8080/"
        },
        "id": "Tsus5IckPdZ8",
        "outputId": "99391b4d-cb9f-4499-f212-4f453795ce2f"
      },
      "outputs": [
        {
          "metadata": {
            "tags": null
          },
          "name": "stdout",
          "output_type": "stream",
          "text": [
            "--2025-03-14 03:53:02--  https://dl.fbaipublicfiles.com/fasttext/vectors-crawl/cc.hi.300.vec.gz\n",
            "Resolving dl.fbaipublicfiles.com (dl.fbaipublicfiles.com)... 3.167.112.129, 3.167.112.51, 3.167.112.53, ...\n",
            "Connecting to dl.fbaipublicfiles.com (dl.fbaipublicfiles.com)|3.167.112.129|:443... connected.\n",
            "HTTP request sent, awaiting response... 200 OK\n",
            "Length: 1118942272 (1.0G) [binary/octet-stream]\n",
            "Saving to: ‘cc.hi.300.vec.gz’\n",
            "\n",
            "cc.hi.300.vec.gz    100%[===================>]   1.04G   135MB/s    in 13s     \n",
            "\n",
            "2025-03-14 03:53:16 (79.7 MB/s) - ‘cc.hi.300.vec.gz’ saved [1118942272/1118942272]\n",
            "\n"
          ]
        }
      ],
      "source": [
        "import gensim\n",
        "!wget https://dl.fbaipublicfiles.com/fasttext/vectors-crawl/cc.hi.300.vec.gz\n",
        "!gunzip cc.hi.300.vec.gz\n",
        "\n",
        "#Load FastText Hindi\n",
        "model_hindi = gensim.models.KeyedVectors.load_word2vec_format(\"cc.hi.300.vec\", binary=False)\n",
        "print(\"Hindi embeddings loaded\")"
      ]
    },
    {
      "cell_type": "markdown",
      "metadata": {
        "id": "w3RoaH9VqanC"
      },
      "source": [
        "IIT Bombay English-Hindi Corpus"
      ]
    },
    {
      "cell_type": "code",
      "execution_count": null,
      "metadata": {
        "colab": {
          "base_uri": "https://localhost:8080/"
        },
        "id": "gxWgllSMjupy",
        "outputId": "b75cf09d-a8ae-46c6-9961-bde47da789d2"
      },
      "outputs": [
        {
          "name": "stdout",
          "output_type": "stream",
          "text": [
            "--2025-03-13 13:21:05--  https://www.cfilt.iitb.ac.in/iitb_parallel/iitb_corpus_download/small_parallel_en_hi.zip\n",
            "Resolving www.cfilt.iitb.ac.in (www.cfilt.iitb.ac.in)... 103.21.127.134\n",
            "Connecting to www.cfilt.iitb.ac.in (www.cfilt.iitb.ac.in)|103.21.127.134|:443... connected.\n",
            "HTTP request sent, awaiting response... 404 Not Found\n",
            "2025-03-13 13:21:06 ERROR 404: Not Found.\n",
            "\n",
            "unzip:  cannot find or open small_parallel_en_hi.zip, small_parallel_en_hi.zip.zip or small_parallel_en_hi.zip.ZIP.\n"
          ]
        }
      ],
      "source": [
        "!wget https://www.cfilt.iitb.ac.in/iitb_parallel/iitb_corpus_download/small_parallel_en_hi.zip\n",
        "!unzip small_parallel_en_hi.zip -d iitb_corpus"
      ]
    },
    {
      "cell_type": "markdown",
      "metadata": {
        "id": "2cAsqE75q3A3"
      },
      "source": [
        "Self Created Dictionary"
      ]
    },
    {
      "cell_type": "code",
      "execution_count": 20,
      "metadata": {
        "id": "nK5FsscnqfLh"
      },
      "outputs": [],
      "source": [
        "bilingual_dict = {\n",
        "    \"dog\": \"कुत्ता\", \"cat\": \"बिल्ली\", \"apple\": \"सेब\", \"car\": \"गाड़ी\",\n",
        "    \"water\": \"पानी\", \"tree\": \"पेड़\", \"king\": \"राजा\", \"queen\": \"रानी\",\n",
        "    \"book\": \"किताब\", \"teacher\": \"अध्यापक\", \"computer\": \"कंप्यूटर\", \"doctor\": \"डॉक्टर\"\n",
        "}"
      ]
    },
    {
      "cell_type": "code",
      "execution_count": 21,
      "metadata": {
        "id": "cm176mJRq7ZQ"
      },
      "outputs": [],
      "source": [
        "english_words = list(bilingual_dict.keys())\n",
        "hindi_words = list(bilingual_dict.values())"
      ]
    },
    {
      "cell_type": "code",
      "execution_count": 22,
      "metadata": {
        "colab": {
          "base_uri": "https://localhost:8080/"
        },
        "id": "SVEbi2J5q8pt",
        "outputId": "fddf7cc9-39aa-498c-ad65-eb4e7de26eab"
      },
      "outputs": [
        {
          "output_type": "stream",
          "name": "stdout",
          "text": [
            "Extracted 12 word pairs for alignment.\n"
          ]
        }
      ],
      "source": [
        "import numpy as np\n",
        "\n",
        "def get_vector(word, model):\n",
        "\n",
        "    if word in model:\n",
        "        return model[word]\n",
        "    return None  # If word is not found\n",
        "\n",
        "# Extract embeddings\n",
        "eng_vectors = []\n",
        "hin_vectors = []\n",
        "\n",
        "for en, hi in zip(english_words, hindi_words):\n",
        "    en_vec = get_vector(en, model_eng)\n",
        "    hi_vec = get_vector(hi, model_hindi)\n",
        "\n",
        "    if en_vec is not None and hi_vec is not None:\n",
        "        eng_vectors.append(en_vec)\n",
        "        hin_vectors.append(hi_vec)\n",
        "\n",
        "# Convert to NumPy arrays\n",
        "eng_vectors = np.array(eng_vectors)\n",
        "hin_vectors = np.array(hin_vectors)\n",
        "\n",
        "print(f\"Extracted {len(eng_vectors)} word pairs for alignment.\")\n"
      ]
    },
    {
      "cell_type": "code",
      "execution_count": 23,
      "metadata": {
        "colab": {
          "base_uri": "https://localhost:8080/"
        },
        "id": "h2LLgLNerFKs",
        "outputId": "46a317ef-e55a-4133-c9c7-64a6e827cfb6"
      },
      "outputs": [
        {
          "output_type": "stream",
          "name": "stdout",
          "text": [
            "Hindi embeddings aligned to English space! Shape: (12, 300)\n"
          ]
        }
      ],
      "source": [
        "from scipy.linalg import orthogonal_procrustes\n",
        "\n",
        "# Learn transformation matrix W\n",
        "W, _ = orthogonal_procrustes(hin_vectors, eng_vectors)\n",
        "\n",
        "# Transform Hindi embeddings\n",
        "hin_aligned = hin_vectors @ W\n",
        "\n",
        "print(f\"Hindi embeddings aligned to English space! Shape: {hin_aligned.shape}\")"
      ]
    },
    {
      "cell_type": "code",
      "execution_count": 24,
      "metadata": {
        "colab": {
          "base_uri": "https://localhost:8080/"
        },
        "id": "qF2CDUc3rJnC",
        "outputId": "b2caefee-6455-4e29-cd22-0bf769f9ffcb"
      },
      "outputs": [
        {
          "output_type": "stream",
          "name": "stdout",
          "text": [
            "\n",
            "🔍 Cosine Similarity Before vs. After Alignment:\n",
            "  ✅ dog (कुत्ता): Before = 0.0514, After = 0.9520\n",
            "  ✅ cat (बिल्ली): Before = -0.0640, After = 0.9708\n",
            "  ✅ apple (सेब): Before = 0.0122, After = 0.9840\n",
            "  ✅ car (गाड़ी): Before = 0.1486, After = 0.9728\n",
            "  ✅ water (पानी): Before = 0.0486, After = 0.9873\n",
            "  ✅ tree (पेड़): Before = -0.0204, After = 0.9757\n",
            "  ✅ king (राजा): Before = -0.0307, After = 0.9677\n",
            "  ✅ queen (रानी): Before = 0.0376, After = 0.9714\n",
            "  ✅ book (किताब): Before = 0.0545, After = 0.9723\n",
            "  ✅ teacher (अध्यापक): Before = -0.0470, After = 0.9644\n",
            "  ✅ computer (कंप्यूटर): Before = 0.0952, After = 0.9575\n",
            "  ✅ doctor (डॉक्टर): Before = -0.0511, After = 0.9754\n"
          ]
        }
      ],
      "source": [
        "from scipy.spatial.distance import cosine\n",
        "\n",
        "def compare_alignment():\n",
        "    \"\"\"Compare similarity before and after alignment\"\"\"\n",
        "    print(\"\\n🔍 Cosine Similarity Before vs. After Alignment:\")\n",
        "\n",
        "    for i, word in enumerate(english_words):\n",
        "        before = 1 - cosine(eng_vectors[i], hin_vectors[i])  # Before alignment\n",
        "        after = 1 - cosine(eng_vectors[i], hin_aligned[i])   # After alignment\n",
        "        print(f\"  ✅ {word} ({bilingual_dict[word]}): Before = {before:.4f}, After = {after:.4f}\")\n",
        "\n",
        "# Run the comparison\n",
        "compare_alignment()"
      ]
    },
    {
      "cell_type": "code",
      "execution_count": 25,
      "metadata": {
        "colab": {
          "base_uri": "https://localhost:8080/",
          "height": 1000
        },
        "id": "u1nO0Hr2rL_4",
        "outputId": "bd2c5259-f54b-49d4-b922-c47027745ae3"
      },
      "outputs": [
        {
          "output_type": "stream",
          "name": "stderr",
          "text": [
            "/usr/local/lib/python3.11/dist-packages/IPython/core/pylabtools.py:151: UserWarning: Glyph 2325 (\\N{DEVANAGARI LETTER KA}) missing from font(s) DejaVu Sans.\n",
            "  fig.canvas.print_figure(bytes_io, **kw)\n",
            "/usr/local/lib/python3.11/dist-packages/IPython/core/pylabtools.py:151: UserWarning: Matplotlib currently does not support Devanagari natively.\n",
            "  fig.canvas.print_figure(bytes_io, **kw)\n",
            "/usr/local/lib/python3.11/dist-packages/IPython/core/pylabtools.py:151: UserWarning: Glyph 2369 (\\N{DEVANAGARI VOWEL SIGN U}) missing from font(s) DejaVu Sans.\n",
            "  fig.canvas.print_figure(bytes_io, **kw)\n",
            "/usr/local/lib/python3.11/dist-packages/IPython/core/pylabtools.py:151: UserWarning: Glyph 2340 (\\N{DEVANAGARI LETTER TA}) missing from font(s) DejaVu Sans.\n",
            "  fig.canvas.print_figure(bytes_io, **kw)\n",
            "/usr/local/lib/python3.11/dist-packages/IPython/core/pylabtools.py:151: UserWarning: Glyph 2381 (\\N{DEVANAGARI SIGN VIRAMA}) missing from font(s) DejaVu Sans.\n",
            "  fig.canvas.print_figure(bytes_io, **kw)\n",
            "/usr/local/lib/python3.11/dist-packages/IPython/core/pylabtools.py:151: UserWarning: Glyph 2366 (\\N{DEVANAGARI VOWEL SIGN AA}) missing from font(s) DejaVu Sans.\n",
            "  fig.canvas.print_figure(bytes_io, **kw)\n",
            "/usr/local/lib/python3.11/dist-packages/IPython/core/pylabtools.py:151: UserWarning: Glyph 2348 (\\N{DEVANAGARI LETTER BA}) missing from font(s) DejaVu Sans.\n",
            "  fig.canvas.print_figure(bytes_io, **kw)\n",
            "/usr/local/lib/python3.11/dist-packages/IPython/core/pylabtools.py:151: UserWarning: Glyph 2367 (\\N{DEVANAGARI VOWEL SIGN I}) missing from font(s) DejaVu Sans.\n",
            "  fig.canvas.print_figure(bytes_io, **kw)\n",
            "/usr/local/lib/python3.11/dist-packages/IPython/core/pylabtools.py:151: UserWarning: Glyph 2354 (\\N{DEVANAGARI LETTER LA}) missing from font(s) DejaVu Sans.\n",
            "  fig.canvas.print_figure(bytes_io, **kw)\n",
            "/usr/local/lib/python3.11/dist-packages/IPython/core/pylabtools.py:151: UserWarning: Glyph 2368 (\\N{DEVANAGARI VOWEL SIGN II}) missing from font(s) DejaVu Sans.\n",
            "  fig.canvas.print_figure(bytes_io, **kw)\n",
            "/usr/local/lib/python3.11/dist-packages/IPython/core/pylabtools.py:151: UserWarning: Glyph 2360 (\\N{DEVANAGARI LETTER SA}) missing from font(s) DejaVu Sans.\n",
            "  fig.canvas.print_figure(bytes_io, **kw)\n",
            "/usr/local/lib/python3.11/dist-packages/IPython/core/pylabtools.py:151: UserWarning: Glyph 2375 (\\N{DEVANAGARI VOWEL SIGN E}) missing from font(s) DejaVu Sans.\n",
            "  fig.canvas.print_figure(bytes_io, **kw)\n",
            "/usr/local/lib/python3.11/dist-packages/IPython/core/pylabtools.py:151: UserWarning: Glyph 2327 (\\N{DEVANAGARI LETTER GA}) missing from font(s) DejaVu Sans.\n",
            "  fig.canvas.print_figure(bytes_io, **kw)\n",
            "/usr/local/lib/python3.11/dist-packages/IPython/core/pylabtools.py:151: UserWarning: Glyph 2337 (\\N{DEVANAGARI LETTER DDA}) missing from font(s) DejaVu Sans.\n",
            "  fig.canvas.print_figure(bytes_io, **kw)\n",
            "/usr/local/lib/python3.11/dist-packages/IPython/core/pylabtools.py:151: UserWarning: Glyph 2364 (\\N{DEVANAGARI SIGN NUKTA}) missing from font(s) DejaVu Sans.\n",
            "  fig.canvas.print_figure(bytes_io, **kw)\n",
            "/usr/local/lib/python3.11/dist-packages/IPython/core/pylabtools.py:151: UserWarning: Glyph 2346 (\\N{DEVANAGARI LETTER PA}) missing from font(s) DejaVu Sans.\n",
            "  fig.canvas.print_figure(bytes_io, **kw)\n",
            "/usr/local/lib/python3.11/dist-packages/IPython/core/pylabtools.py:151: UserWarning: Glyph 2344 (\\N{DEVANAGARI LETTER NA}) missing from font(s) DejaVu Sans.\n",
            "  fig.canvas.print_figure(bytes_io, **kw)\n",
            "/usr/local/lib/python3.11/dist-packages/IPython/core/pylabtools.py:151: UserWarning: Glyph 2352 (\\N{DEVANAGARI LETTER RA}) missing from font(s) DejaVu Sans.\n",
            "  fig.canvas.print_figure(bytes_io, **kw)\n",
            "/usr/local/lib/python3.11/dist-packages/IPython/core/pylabtools.py:151: UserWarning: Glyph 2332 (\\N{DEVANAGARI LETTER JA}) missing from font(s) DejaVu Sans.\n",
            "  fig.canvas.print_figure(bytes_io, **kw)\n",
            "/usr/local/lib/python3.11/dist-packages/IPython/core/pylabtools.py:151: UserWarning: Glyph 2309 (\\N{DEVANAGARI LETTER A}) missing from font(s) DejaVu Sans.\n",
            "  fig.canvas.print_figure(bytes_io, **kw)\n",
            "/usr/local/lib/python3.11/dist-packages/IPython/core/pylabtools.py:151: UserWarning: Glyph 2343 (\\N{DEVANAGARI LETTER DHA}) missing from font(s) DejaVu Sans.\n",
            "  fig.canvas.print_figure(bytes_io, **kw)\n",
            "/usr/local/lib/python3.11/dist-packages/IPython/core/pylabtools.py:151: UserWarning: Glyph 2351 (\\N{DEVANAGARI LETTER YA}) missing from font(s) DejaVu Sans.\n",
            "  fig.canvas.print_figure(bytes_io, **kw)\n",
            "/usr/local/lib/python3.11/dist-packages/IPython/core/pylabtools.py:151: UserWarning: Glyph 2306 (\\N{DEVANAGARI SIGN ANUSVARA}) missing from font(s) DejaVu Sans.\n",
            "  fig.canvas.print_figure(bytes_io, **kw)\n",
            "/usr/local/lib/python3.11/dist-packages/IPython/core/pylabtools.py:151: UserWarning: Glyph 2370 (\\N{DEVANAGARI VOWEL SIGN UU}) missing from font(s) DejaVu Sans.\n",
            "  fig.canvas.print_figure(bytes_io, **kw)\n",
            "/usr/local/lib/python3.11/dist-packages/IPython/core/pylabtools.py:151: UserWarning: Glyph 2335 (\\N{DEVANAGARI LETTER TTA}) missing from font(s) DejaVu Sans.\n",
            "  fig.canvas.print_figure(bytes_io, **kw)\n",
            "/usr/local/lib/python3.11/dist-packages/IPython/core/pylabtools.py:151: UserWarning: Glyph 2377 (\\N{DEVANAGARI VOWEL SIGN CANDRA O}) missing from font(s) DejaVu Sans.\n",
            "  fig.canvas.print_figure(bytes_io, **kw)\n"
          ]
        },
        {
          "output_type": "display_data",
          "data": {
            "text/plain": [
              "<Figure size 1000x600 with 1 Axes>"
            ],
            "image/png": "[encoded data removed]"
          },
          "metadata": {}
        }
      ],
      "source": [
        "from sklearn.decomposition import PCA\n",
        "import matplotlib.pyplot as plt\n",
        "\n",
        "# Reduce to 2D\n",
        "pca = PCA(n_components=2)\n",
        "eng_2d = pca.fit_transform(eng_vectors)\n",
        "hin_before_2d = pca.transform(hin_vectors)\n",
        "hin_after_2d = pca.transform(hin_aligned)\n",
        "\n",
        "plt.figure(figsize=(10, 6))\n",
        "\n",
        "# Plot English embeddings\n",
        "plt.scatter(eng_2d[:, 0], eng_2d[:, 1], color=\"blue\", label=\"English\")\n",
        "# Plot Hindi embeddings before alignment\n",
        "plt.scatter(hin_before_2d[:, 0], hin_before_2d[:, 1], color=\"red\", alpha=0.5, label=\"Hindi (Before)\")\n",
        "# Plot Hindi embeddings after alignment\n",
        "plt.scatter(hin_after_2d[:, 0], hin_after_2d[:, 1], color=\"green\", alpha=0.7, label=\"Hindi (After)\")\n",
        "\n",
        "# Annotate words\n",
        "for i, word in enumerate(english_words):\n",
        "    plt.annotate(word, (eng_2d[i, 0], eng_2d[i, 1]), fontsize=9, color=\"blue\")\n",
        "    plt.annotate(bilingual_dict[word], (hin_before_2d[i, 0], hin_before_2d[i, 1]), fontsize=9, color=\"red\")\n",
        "    plt.annotate(bilingual_dict[word], (hin_after_2d[i, 0], hin_after_2d[i, 1]), fontsize=9, color=\"green\")\n",
        "\n",
        "plt.title(\"Cross-Lingual Embedding Alignment (PCA Projection)\")\n",
        "plt.legend()\n",
        "plt.show()"
      ]
    },
    {
      "cell_type": "markdown",
      "metadata": {
        "id": "sFrDgrz5ubRJ"
      },
      "source": [
        "IITB Corpus"
      ]
    },
    {
      "cell_type": "code",
      "execution_count": 26,
      "metadata": {
        "id": "S4jSxG_VrRNZ"
      },
      "outputs": [],
      "source": [
        "import pandas as pd\n",
        "\n",
        "with open(\"test.en\", \"r\", encoding=\"utf-8\") as f:\n",
        "    english_test_sentences = f.readlines()\n",
        "\n",
        "with open(\"test.hi\", \"r\", encoding=\"utf-8\") as f:\n",
        "    hindi_test_sentences = f.readlines()\n",
        "\n",
        "with open(\"dev.en\", \"r\", encoding=\"utf-8\") as f:\n",
        "    english_dev_sentences = f.readlines()\n",
        "\n",
        "with open(\"dev.hi\", \"r\", encoding=\"utf-8\") as f:\n",
        "    hindi_dev_sentences = f.readlines()"
      ]
    },
    {
      "cell_type": "code",
      "execution_count": 27,
      "metadata": {
        "colab": {
          "base_uri": "https://localhost:8080/"
        },
        "id": "FQhZHNUAywCT",
        "outputId": "4b5770c5-0991-4153-ee09-e6a132eaa8d9"
      },
      "outputs": [
        {
          "output_type": "stream",
          "name": "stdout",
          "text": [
            "Sample Test Sentence (English): A black box in your car?\n",
            "\n",
            "Sample Test Sentence (Hindi): आपकी कार में ब्लैक बॉक्स?\n",
            "\n"
          ]
        }
      ],
      "source": [
        "print(f\"Sample Test Sentence (English): {english_test_sentences[0]}\")\n",
        "print(f\"Sample Test Sentence (Hindi): {hindi_test_sentences[0]}\")#Just to check"
      ]
    },
    {
      "cell_type": "code",
      "execution_count": 28,
      "metadata": {
        "colab": {
          "base_uri": "https://localhost:8080/",
          "height": 206
        },
        "id": "2fxGXPfGzTWC",
        "outputId": "a7c960eb-2496-4edb-d551-05eaef4fd28e"
      },
      "outputs": [
        {
          "output_type": "execute_result",
          "data": {
            "text/plain": [
              "                                             English  \\\n",
              "0                         A black box in your car?\\n   \n",
              "1  As America's road planners struggle to find th...   \n",
              "2  The devices, which track every mile a motorist...   \n",
              "3  The usually dull arena of highway planning has...   \n",
              "4  Libertarians have joined environmental groups ...   \n",
              "\n",
              "                                               Hindi  \n",
              "0                        आपकी कार में ब्लैक बॉक्स?\\n  \n",
              "1  जबकि अमेरिका के सड़क योजनाकार, ध्वस्त होते हुए...  \n",
              "2  यह डिवाइस, जो मोटर-चालक द्वारा वाहन चलाए गए प्...  \n",
              "3  आम तौर पर हाईवे नियोजन जैसा उबाऊ काम भी अचानक ...  \n",
              "4  आपने द्वारा ड्राइव किए गए मील, तथा संभवतः ड्रा...  "
            ],
            "text/html": [
              "\n",
              "  <div id=\"df-9704f66b-eec1-4bdd-a195-a2e2d6c86763\" class=\"colab-df-container\">\n",
              "    <div>\n",
              "<style scoped>\n",
              "    .dataframe tbody tr th:only-of-type {\n",
              "        vertical-align: middle;\n",
              "    }\n",
              "\n",
              "    .dataframe tbody tr th {\n",
              "        vertical-align: top;\n",
              "    }\n",
              "\n",
              "    .dataframe thead th {\n",
              "        text-align: right;\n",
              "    }\n",
              "</style>\n",
              "<table border=\"1\" class=\"dataframe\">\n",
              "  <thead>\n",
              "    <tr style=\"text-align: right;\">\n",
              "      <th></th>\n",
              "      <th>English</th>\n",
              "      <th>Hindi</th>\n",
              "    </tr>\n",
              "  </thead>\n",
              "  <tbody>\n",
              "    <tr>\n",
              "      <th>0</th>\n",
              "      <td>A black box in your car?\\n</td>\n",
              "      <td>आपकी कार में ब्लैक बॉक्स?\\n</td>\n",
              "    </tr>\n",
              "    <tr>\n",
              "      <th>1</th>\n",
              "      <td>As America's road planners struggle to find th...</td>\n",
              "      <td>जबकि अमेरिका के सड़क योजनाकार, ध्वस्त होते हुए...</td>\n",
              "    </tr>\n",
              "    <tr>\n",
              "      <th>2</th>\n",
              "      <td>The devices, which track every mile a motorist...</td>\n",
              "      <td>यह डिवाइस, जो मोटर-चालक द्वारा वाहन चलाए गए प्...</td>\n",
              "    </tr>\n",
              "    <tr>\n",
              "      <th>3</th>\n",
              "      <td>The usually dull arena of highway planning has...</td>\n",
              "      <td>आम तौर पर हाईवे नियोजन जैसा उबाऊ काम भी अचानक ...</td>\n",
              "    </tr>\n",
              "    <tr>\n",
              "      <th>4</th>\n",
              "      <td>Libertarians have joined environmental groups ...</td>\n",
              "      <td>आपने द्वारा ड्राइव किए गए मील, तथा संभवतः ड्रा...</td>\n",
              "    </tr>\n",
              "  </tbody>\n",
              "</table>\n",
              "</div>\n",
              "    <div class=\"colab-df-buttons\">\n",
              "\n",
              "  <div class=\"colab-df-container\">\n",
              "    <button class=\"colab-df-convert\" onclick=\"convertToInteractive('df-9704f66b-eec1-4bdd-a195-a2e2d6c86763')\"\n",
              "            title=\"Convert this dataframe to an interactive table.\"\n",
              "            style=\"display:none;\">\n",
              "\n",
              "  <svg xmlns=\"http://www.w3.org/2000/svg\" height=\"24px\" viewBox=\"0 -960 960 960\">\n",
              "    <path d=\"M120-120v-720h720v720H120Zm60-500h600v-160H180v160Zm220 220h160v-160H400v160Zm0 220h160v-160H400v160ZM180-400h160v-160H180v160Zm440 0h160v-160H620v160ZM180-180h160v-160H180v160Zm440 0h160v-160H620v160Z\"/>\n",
              "  </svg>\n",
              "    </button>\n",
              "\n",
              "  <style>\n",
              "    .colab-df-container {\n",
              "      display:flex;\n",
              "      gap: 12px;\n",
              "    }\n",
              "\n",
              "    .colab-df-convert {\n",
              "      background-color: #E8F0FE;\n",
              "      border: none;\n",
              "      border-radius: 50%;\n",
              "      cursor: pointer;\n",
              "      display: none;\n",
              "      fill: #1967D2;\n",
              "      height: 32px;\n",
              "      padding: 0 0 0 0;\n",
              "      width: 32px;\n",
              "    }\n",
              "\n",
              "    .colab-df-convert:hover {\n",
              "      background-color: #E2EBFA;\n",
              "      box-shadow: 0px 1px 2px rgba(60, 64, 67, 0.3), 0px 1px 3px 1px rgba(60, 64, 67, 0.15);\n",
              "      fill: #174EA6;\n",
              "    }\n",
              "\n",
              "    .colab-df-buttons div {\n",
              "      margin-bottom: 4px;\n",
              "    }\n",
              "\n",
              "    [theme=dark] .colab-df-convert {\n",
              "      background-color: #3B4455;\n",
              "      fill: #D2E3FC;\n",
              "    }\n",
              "\n",
              "    [theme=dark] .colab-df-convert:hover {\n",
              "      background-color: #434B5C;\n",
              "      box-shadow: 0px 1px 3px 1px rgba(0, 0, 0, 0.15);\n",
              "      filter: drop-shadow(0px 1px 2px rgba(0, 0, 0, 0.3));\n",
              "      fill: #FFFFFF;\n",
              "    }\n",
              "  </style>\n",
              "\n",
              "    <script>\n",
              "      const buttonEl =\n",
              "        document.querySelector('#df-9704f66b-eec1-4bdd-a195-a2e2d6c86763 button.colab-df-convert');\n",
              "      buttonEl.style.display =\n",
              "        google.colab.kernel.accessAllowed ? 'block' : 'none';\n",
              "\n",
              "      async function convertToInteractive(key) {\n",
              "        const element = document.querySelector('#df-9704f66b-eec1-4bdd-a195-a2e2d6c86763');\n",
              "        const dataTable =\n",
              "          await google.colab.kernel.invokeFunction('convertToInteractive',\n",
              "                                                    [key], {});\n",
              "        if (!dataTable) return;\n",
              "\n",
              "        const docLinkHtml = 'Like what you see? Visit the ' +\n",
              "          '<a target=\"_blank\" href=https://colab.research.google.com/notebooks/data_table.ipynb>data table notebook</a>'\n",
              "          + ' to learn more about interactive tables.';\n",
              "        element.innerHTML = '';\n",
              "        dataTable['output_type'] = 'display_data';\n",
              "        await google.colab.output.renderOutput(dataTable, element);\n",
              "        const docLink = document.createElement('div');\n",
              "        docLink.innerHTML = docLinkHtml;\n",
              "        element.appendChild(docLink);\n",
              "      }\n",
              "    </script>\n",
              "  </div>\n",
              "\n",
              "\n",
              "<div id=\"df-7b6a2ba1-f190-403f-ae65-0d653ed01782\">\n",
              "  <button class=\"colab-df-quickchart\" onclick=\"quickchart('df-7b6a2ba1-f190-403f-ae65-0d653ed01782')\"\n",
              "            title=\"Suggest charts\"\n",
              "            style=\"display:none;\">\n",
              "\n",
              "<svg xmlns=\"http://www.w3.org/2000/svg\" height=\"24px\"viewBox=\"0 0 24 24\"\n",
              "     width=\"24px\">\n",
              "    <g>\n",
              "        <path d=\"M19 3H5c-1.1 0-2 .9-2 2v14c0 1.1.9 2 2 2h14c1.1 0 2-.9 2-2V5c0-1.1-.9-2-2-2zM9 17H7v-7h2v7zm4 0h-2V7h2v10zm4 0h-2v-4h2v4z\"/>\n",
              "    </g>\n",
              "</svg>\n",
              "  </button>\n",
              "\n",
              "<style>\n",
              "  .colab-df-quickchart {\n",
              "      --bg-color: #E8F0FE;\n",
              "      --fill-color: #1967D2;\n",
              "      --hover-bg-color: #E2EBFA;\n",
              "      --hover-fill-color: #174EA6;\n",
              "      --disabled-fill-color: #AAA;\n",
              "      --disabled-bg-color: #DDD;\n",
              "  }\n",
              "\n",
              "  [theme=dark] .colab-df-quickchart {\n",
              "      --bg-color: #3B4455;\n",
              "      --fill-color: #D2E3FC;\n",
              "      --hover-bg-color: #434B5C;\n",
              "      --hover-fill-color: #FFFFFF;\n",
              "      --disabled-bg-color: #3B4455;\n",
              "      --disabled-fill-color: #666;\n",
              "  }\n",
              "\n",
              "  .colab-df-quickchart {\n",
              "    background-color: var(--bg-color);\n",
              "    border: none;\n",
              "    border-radius: 50%;\n",
              "    cursor: pointer;\n",
              "    display: none;\n",
              "    fill: var(--fill-color);\n",
              "    height: 32px;\n",
              "    padding: 0;\n",
              "    width: 32px;\n",
              "  }\n",
              "\n",
              "  .colab-df-quickchart:hover {\n",
              "    background-color: var(--hover-bg-color);\n",
              "    box-shadow: 0 1px 2px rgba(60, 64, 67, 0.3), 0 1px 3px 1px rgba(60, 64, 67, 0.15);\n",
              "    fill: var(--button-hover-fill-color);\n",
              "  }\n",
              "\n",
              "  .colab-df-quickchart-complete:disabled,\n",
              "  .colab-df-quickchart-complete:disabled:hover {\n",
              "    background-color: var(--disabled-bg-color);\n",
              "    fill: var(--disabled-fill-color);\n",
              "    box-shadow: none;\n",
              "  }\n",
              "\n",
              "  .colab-df-spinner {\n",
              "    border: 2px solid var(--fill-color);\n",
              "    border-color: transparent;\n",
              "    border-bottom-color: var(--fill-color);\n",
              "    animation:\n",
              "      spin 1s steps(1) infinite;\n",
              "  }\n",
              "\n",
              "  @keyframes spin {\n",
              "    0% {\n",
              "      border-color: transparent;\n",
              "      border-bottom-color: var(--fill-color);\n",
              "      border-left-color: var(--fill-color);\n",
              "    }\n",
              "    20% {\n",
              "      border-color: transparent;\n",
              "      border-left-color: var(--fill-color);\n",
              "      border-top-color: var(--fill-color);\n",
              "    }\n",
              "    30% {\n",
              "      border-color: transparent;\n",
              "      border-left-color: var(--fill-color);\n",
              "      border-top-color: var(--fill-color);\n",
              "      border-right-color: var(--fill-color);\n",
              "    }\n",
              "    40% {\n",
              "      border-color: transparent;\n",
              "      border-right-color: var(--fill-color);\n",
              "      border-top-color: var(--fill-color);\n",
              "    }\n",
              "    60% {\n",
              "      border-color: transparent;\n",
              "      border-right-color: var(--fill-color);\n",
              "    }\n",
              "    80% {\n",
              "      border-color: transparent;\n",
              "      border-right-color: var(--fill-color);\n",
              "      border-bottom-color: var(--fill-color);\n",
              "    }\n",
              "    90% {\n",
              "      border-color: transparent;\n",
              "      border-bottom-color: var(--fill-color);\n",
              "    }\n",
              "  }\n",
              "</style>\n",
              "\n",
              "  <script>\n",
              "    async function quickchart(key) {\n",
              "      const quickchartButtonEl =\n",
              "        document.querySelector('#' + key + ' button');\n",
              "      quickchartButtonEl.disabled = true;  // To prevent multiple clicks.\n",
              "      quickchartButtonEl.classList.add('colab-df-spinner');\n",
              "      try {\n",
              "        const charts = await google.colab.kernel.invokeFunction(\n",
              "            'suggestCharts', [key], {});\n",
              "      } catch (error) {\n",
              "        console.error('Error during call to suggestCharts:', error);\n",
              "      }\n",
              "      quickchartButtonEl.classList.remove('colab-df-spinner');\n",
              "      quickchartButtonEl.classList.add('colab-df-quickchart-complete');\n",
              "    }\n",
              "    (() => {\n",
              "      let quickchartButtonEl =\n",
              "        document.querySelector('#df-7b6a2ba1-f190-403f-ae65-0d653ed01782 button');\n",
              "      quickchartButtonEl.style.display =\n",
              "        google.colab.kernel.accessAllowed ? 'block' : 'none';\n",
              "    })();\n",
              "  </script>\n",
              "</div>\n",
              "\n",
              "    </div>\n",
              "  </div>\n"
            ],
            "application/vnd.google.colaboratory.intrinsic+json": {
              "type": "dataframe",
              "variable_name": "df",
              "summary": "{\n  \"name\": \"df\",\n  \"rows\": 3027,\n  \"fields\": [\n    {\n      \"column\": \"English\",\n      \"properties\": {\n        \"dtype\": \"string\",\n        \"num_unique_values\": 3026,\n        \"samples\": [\n          \"During this time more than a dozen employees of these departments, including the director, were found absent from their posts.\\n\",\n          \"They argue that luggage costs money to handle, and passengers who want the service should pay for it.\\n\",\n          \"A 21-year-old Sydney woman sentenced to 15 days jail in Phuket for falsely claiming she was assaulted by a taxi driver is appealing the verdict and has been granted bail.\\n\"\n        ],\n        \"semantic_type\": \"\",\n        \"description\": \"\"\n      }\n    },\n    {\n      \"column\": \"Hindi\",\n      \"properties\": {\n        \"dtype\": \"string\",\n        \"num_unique_values\": 3026,\n        \"samples\": [\n          \"\\u0907\\u0938 \\u0926\\u094c\\u0930\\u093e\\u0928 \\u0909\\u0928\\u094d\\u0939\\u094b\\u0902\\u0928\\u0947 \\u0907\\u0928 \\u0935\\u093f\\u092d\\u093e\\u0917\\u094b\\u0902 \\u092e\\u0947\\u0902 \\u0928\\u093f\\u0926\\u0947\\u0936\\u0915 \\u0938\\u092e\\u0947\\u0924 \\u0926\\u0930\\u094d\\u091c\\u0928 \\u092d\\u0930 \\u0938\\u0947 \\u0905\\u0927\\u093f\\u0915 \\u0915\\u0930\\u094d\\u092e\\u091a\\u093e\\u0930\\u093f\\u092f\\u094b\\u0902 \\u0915\\u094b \\u0905\\u092a\\u0928\\u0940 \\u0938\\u0940\\u091f \\u0938\\u0947 \\u0928\\u0926\\u093e\\u0930\\u0926 \\u092a\\u093e\\u092f\\u093e\\u0964\\n\",\n          \"\\u0935\\u0947 \\u0924\\u0930\\u094d\\u0915 \\u0926\\u0947\\u0924\\u0947 \\u0939\\u0948\\u0902 \\u0915\\u093f \\u092c\\u0948\\u0917\\u0947\\u091c \\u0915\\u094b \\u0938\\u0902\\u092d\\u093e\\u0932\\u0928\\u0947 \\u0915\\u0947 \\u0932\\u093f\\u090f \\u092a\\u0948\\u0938\\u093e \\u0916\\u0930\\u094d\\u091a \\u0939\\u094b\\u0924\\u093e \\u0939\\u0948, \\u0914\\u0930 \\u091c\\u094b \\u092f\\u093e\\u0924\\u094d\\u0930\\u0940 \\u0938\\u0947\\u0935\\u093e \\u091a\\u093e\\u0939\\u0924\\u0947 \\u0939\\u0948\\u0902  \\u0909\\u0928 \\u0915\\u094b \\u0907\\u0938\\u0915\\u0947 \\u0932\\u093f\\u090f \\u092d\\u0941\\u0917\\u0924\\u093e\\u0928 \\u0915\\u0930\\u0928\\u093e \\u091a\\u093e\\u0939\\u093f\\u090f.\\n\",\n          \"\\u0938\\u093f\\u0921\\u0928\\u0940 \\u0915\\u0940 \\u090f\\u0915 21 \\u0935\\u0930\\u094d\\u0937\\u0940\\u092f \\u092e\\u0939\\u093f\\u0932\\u093e \\u0915\\u094b \\u091f\\u0948\\u0915\\u094d\\u0938\\u0940 \\u091a\\u093e\\u0932\\u0915 \\u092a\\u0930 \\u0939\\u092e\\u0932\\u0947 \\u0915\\u093e \\u0917\\u0932\\u0924 \\u0906\\u0930\\u094b\\u092a \\u0932\\u0917\\u093e\\u0928\\u0947 \\u0915\\u0947 \\u0932\\u093f\\u090f \\u092b\\u0941\\u0915\\u0947\\u091f \\u092e\\u0947\\u0902 15 \\u0926\\u093f\\u0928\\u094b\\u0902 \\u0915\\u0947 \\u0915\\u093e\\u0930\\u093e\\u0935\\u093e\\u0938 \\u0915\\u0940 \\u0938\\u091c\\u093e \\u0938\\u0941\\u0928\\u093e\\u0908 \\u0917\\u0908 \\u0939\\u0948, \\u0909\\u0938\\u0928\\u0947 \\u0907\\u0938 \\u0928\\u093f\\u0930\\u094d\\u0923\\u092f \\u0915\\u0947 \\u0935\\u093f\\u0930\\u0942\\u0926\\u094d\\u0927 \\u0905\\u092a\\u0940\\u0932 \\u0915\\u093f\\u092f\\u093e \\u0939\\u0948 \\u0924\\u0925\\u093e \\u0909\\u0938\\u0947 \\u091c\\u092e\\u093e\\u0928\\u0924 \\u092e\\u093f\\u0932 \\u0917\\u0908 \\u0939\\u0948\\u0964\\n\"\n        ],\n        \"semantic_type\": \"\",\n        \"description\": \"\"\n      }\n    }\n  ]\n}"
            }
          },
          "metadata": {},
          "execution_count": 28
        }
      ],
      "source": [
        "df = pd.DataFrame({\n",
        "    \"English\": english_test_sentences + english_dev_sentences,\n",
        "    \"Hindi\": hindi_test_sentences + hindi_dev_sentences\n",
        "})\n",
        "df.head()"
      ]
    },
    {
      "cell_type": "code",
      "execution_count": 29,
      "metadata": {
        "colab": {
          "base_uri": "https://localhost:8080/"
        },
        "id": "PSunCyI5zb5C",
        "outputId": "f96a2afc-1887-4e2a-a107-be472c862a0d"
      },
      "outputs": [
        {
          "output_type": "stream",
          "name": "stdout",
          "text": [
            "Sample bilingual dictionary: [('during', 'उपलब्ध'), ('this', 'इस'), ('time', 'समय'), ('more', 'विश्वदाय'), ('than', 'धरोहर'), ('a', 'एक'), ('dozen', 'बायोटेक्नोलॉजी,'), ('employees', 'की'), ('of', 'और'), ('these', 'में')]\n"
          ]
        }
      ],
      "source": [
        "import random\n",
        "\n",
        "sample_df=df.sample(500, random_state=42)\n",
        "\n",
        "#Let's tokenize both languages\n",
        "english_words=set()\n",
        "hindi_words=set()\n",
        "bilingual_dict={}\n",
        "\n",
        "for _,row in sample_df.iterrows():\n",
        "  eng_tokens=row['English'].strip().lower().split()\n",
        "  hin_tokens=row['Hindi'].strip().lower().split()\n",
        "\n",
        "  for eng, hin in zip(eng_tokens[:10], hin_tokens[:10]):\n",
        "    english_words.add(eng)\n",
        "    hindi_words.add(hin)\n",
        "    bilingual_dict[eng] = hin\n",
        "\n",
        "print(f\"Sample bilingual dictionary:\", list(bilingual_dict.items())[:10])"
      ]
    },
    {
      "cell_type": "code",
      "execution_count": 36,
      "metadata": {
        "colab": {
          "base_uri": "https://localhost:8080/"
        },
        "id": "ZqPQE4wS0jz0",
        "outputId": "37a963d2-962a-423b-bb6d-ad7b2c4209bb"
      },
      "outputs": [
        {
          "output_type": "stream",
          "name": "stdout",
          "text": [
            "Extracted 1550 word pairs for alignment.\n"
          ]
        }
      ],
      "source": [
        "def get_vector(word, model):\n",
        "\n",
        "    if word in model:\n",
        "        return model[word]\n",
        "    return None  # If word is not found\n",
        "\n",
        "# Extract embeddings\n",
        "eng_vectors = []\n",
        "hin_vectors = []\n",
        "\n",
        "\n",
        "valid_pairs = []\n",
        "\n",
        "for en, hi in bilingual_dict.items():\n",
        "    en_vec = get_vector(en, model_eng)\n",
        "    hi_vec = get_vector(hi, model_hindi)\n",
        "\n",
        "    if en_vec is not None and hi_vec is not None:\n",
        "        eng_vectors.append(en_vec)\n",
        "        hin_vectors.append(hi_vec)\n",
        "        valid_pairs.append((en, hi))\n",
        "\n",
        "# Convert to NumPy arrays\n",
        "eng_vectors = np.array(eng_vectors)\n",
        "hin_vectors = np.array(hin_vectors)\n",
        "\n",
        "print(f\"Extracted {len(eng_vectors)} word pairs for alignment.\")"
      ]
    },
    {
      "cell_type": "code",
      "execution_count": 37,
      "metadata": {
        "id": "qS_c1yi90-W5",
        "colab": {
          "base_uri": "https://localhost:8080/"
        },
        "outputId": "45dbbf71-a0bb-4be8-bc0a-92df4f57fe56"
      },
      "outputs": [
        {
          "output_type": "stream",
          "name": "stdout",
          "text": [
            "Hindi embeddings aligned to English space! Shape: (1550, 300)\n"
          ]
        }
      ],
      "source": [
        "W, _ = orthogonal_procrustes(hin_vectors, eng_vectors)\n",
        "\n",
        "# Transform Hindi embeddings\n",
        "hin_aligned = hin_vectors @ W\n",
        "\n",
        "print(f\"Hindi embeddings aligned to English space! Shape: {hin_aligned.shape}\")"
      ]
    },
    {
      "cell_type": "code",
      "execution_count": 39,
      "metadata": {
        "id": "_Yb5Aza11GBL",
        "colab": {
          "base_uri": "https://localhost:8080/"
        },
        "outputId": "e10822f2-e57a-4628-85f2-088c677eb1ce"
      },
      "outputs": [
        {
          "output_type": "stream",
          "name": "stdout",
          "text": [
            "\n",
            " Cosine Similarity Before vs. After Alignment:\n",
            "during (उपलब्ध): Before = 0.1296, After = 0.2576\n",
            "this (इस): Before = -0.0047, After = 0.6286\n",
            "time (समय): Before = 0.1024, After = 0.5609\n",
            "more (विश्वदाय): Before = 0.0312, After = 0.2957\n",
            "than (धरोहर): Before = -0.0483, After = 0.5156\n",
            "a (एक): Before = 0.0334, After = 0.2357\n",
            "employees (की): Before = 0.0247, After = 0.4137\n",
            "of (और): Before = 0.0124, After = 0.5385\n",
            "these (में): Before = 0.0327, After = 0.6105\n",
            "they (कृत्य): Before = 0.0161, After = 0.3328\n",
            "argue (तर्क): Before = 0.0727, After = 0.5932\n",
            "that (में): Before = 0.0458, After = 0.4814\n",
            "luggage (हैं): Before = -0.1090, After = 0.3328\n",
            "costs (के): Before = 0.0383, After = 0.5195\n",
            "money (व्यक्ति): Before = 0.0388, After = 0.3373\n",
            "and (की): Before = 0.0047, After = 0.5122\n",
            "passengers (एयरलाइन): Before = 0.0209, After = 0.4267\n",
            "the (उनके): Before = 0.1130, After = 0.5444\n",
            "family (ने): Before = 0.0134, After = 0.3908\n",
            "members (बाजार): Before = 0.0717, After = 0.2189\n",
            "are (भिन्न): Before = 0.0972, After = 0.4580\n",
            "42 (प्रदेश): Before = 0.0761, After = 0.1997\n",
            "senior (के): Before = -0.0324, After = 0.4114\n",
            "leaders (कार्यक्रम): Before = 0.0823, After = 0.2512\n",
            "state (सड़क): Before = 0.0299, After = 0.4824\n",
            "bjp (सूची): Before = -0.0480, After = 0.2075\n",
            "unit (लाभ): Before = 0.1318, After = 0.5736\n",
            "gave (ने): Before = -0.0926, After = 0.5926\n",
            "national (खुफिया): Before = 0.0563, After = 0.3741\n",
            "executive (समिति): Before = 0.0354, After = 0.4989\n",
            "member (श्रेणी): Before = 0.0781, After = 0.3336\n",
            "chief (और): Before = 0.0970, After = 0.4112\n",
            "dr (प्रवक्ता): Before = -0.0888, After = 0.3853\n",
            "jitendra (और): Before = 0.0443, After = 0.3069\n",
            "but (लेकिन): Before = 0.0660, After = 0.5900\n",
            "after (1992): Before = 0.0057, After = 0.3910\n",
            "hearing (पश्चात): Before = 0.0624, After = 0.3752\n",
            "supt (लंकाशायर): Before = 0.0867, After = 0.2482\n",
            "lee (पुलिस): Before = -0.0357, After = 0.4379\n",
            "from (से): Before = 0.0416, After = 0.4444\n",
            "lancashire (ली): Before = 0.0323, After = 0.6491\n",
            "there (कुछ): Before = 0.0331, After = 0.6008\n",
            "have (न): Before = -0.0006, After = 0.6368\n",
            "been (दशकों): Before = 0.0583, After = 0.4205\n",
            "some (कुछ): Before = 0.0436, After = 0.6611\n",
            "big (बड़ा): Before = -0.0179, After = 0.5270\n",
            "mistakes (में): Before = 0.0219, After = 0.3441\n",
            "in (वर्ष): Before = 0.1240, After = 0.4932\n",
            "frontier (frontier): Before = 0.0892, After = 0.2987\n",
            "is (को): Before = -0.1234, After = 0.4897\n",
            "also (ने): Before = -0.0455, After = 0.4811\n",
            "charge (-): Before = 0.0433, After = 0.3614\n",
            "for (तैयारियों): Before = 0.0705, After = 0.4287\n",
            "armando (अर्मांडो): Before = 0.1238, After = 0.3949\n",
            "sought (अस्थिरता): Before = 0.0939, After = 0.2640\n",
            "play (मामले): Before = 0.0362, After = 0.4533\n",
            "down (को): Before = 0.0110, After = 0.5215\n",
            "concerns (चिंताओं): Before = 0.0639, After = 0.4073\n",
            "about (पहले): Before = 0.0690, After = 0.5102\n",
            "delta (डेल्टा): Before = -0.0131, After = 0.6501\n",
            "jetblue (जेटब्लू): Before = 0.0135, After = 0.4286\n",
            "were (रहे): Before = 0.1395, After = 0.4022\n",
            "among (होनी): Before = 0.0761, After = 0.4980\n",
            "airliners (एयरलाइन्स): Before = 0.0205, After = 0.5359\n",
            "who (आज): Before = -0.0044, After = 0.7436\n",
            "already (संयुक्त): Before = 0.0149, After = 0.2289\n",
            "other (मामले): Before = 0.0498, After = 0.5030\n",
            "precious (अलावा): Before = 0.1562, After = 0.4222\n",
            "metals (पीतल): Before = 0.0534, After = 0.6621\n",
            "price (का): Before = 0.0255, After = 0.5241\n",
            "brass (मूल्य): Before = 0.0580, After = 0.4230\n",
            "now (जुलाई): Before = 0.0372, After = 0.3621\n",
            "scientists (वैज्ञानिकों): Before = -0.0022, After = 0.4613\n",
            "say (है): Before = -0.0352, After = 0.5743\n",
            "fellow (है): Before = -0.0165, After = 0.3901\n",
            "canines (कि): Before = -0.0254, After = 0.3240\n",
            "can (से): Before = -0.0129, After = 0.4992\n",
            "spot (के): Before = 0.1489, After = 0.5068\n",
            "theatre (में): Before = 0.0468, After = 0.5335\n",
            "lighting (वाले): Before = 0.1049, After = 0.4847\n",
            "was (हनुमान): Before = -0.0237, After = 0.3704\n",
            "handled (युवा): Before = 0.0540, After = 0.2970\n",
            "by (संख्याओ): Before = 0.0788, After = 0.3775\n",
            "revelation (मे): Before = -0.0078, After = 0.3472\n",
            "most (अंबानी): Before = 0.0657, After = 0.4056\n",
            "notable (है): Before = -0.0965, After = 0.5189\n",
            "bombshell (की): Before = 0.0074, After = 0.3708\n",
            "mark (की): Before = 0.0400, After = 0.4897\n",
            "no (ग्रामीण): Before = 0.0525, After = 0.4342\n",
            "need (नेताओं): Before = 0.1400, After = 0.3053\n",
            "build (एक): Before = -0.1016, After = 0.5687\n",
            "an (से): Before = 0.1516, After = 0.4565\n",
            "unwieldy (आवश्यकता): Before = 0.0525, After = 0.2595\n",
            "technological (नहीं): Before = 0.0098, After = 0.3584\n",
            "statement (बयान): Before = -0.0333, After = 0.5478\n",
            "caused (जो): Before = 0.0115, After = 0.5953\n",
            "priority (अवश्य): Before = 0.0624, After = 0.4548\n",
            "must (यह): Before = -0.0384, After = 0.6382\n",
            "be (2): Before = 0.0092, After = 0.6054\n",
            "jobs (में): Before = 0.0072, After = 0.5108\n",
            "growth (तथा): Before = 0.0642, After = 0.4831\n",
            "britain (बिजनेस): Before = 0.0385, After = 0.4049\n",
            "out (किए): Before = 0.0732, After = 0.5915\n",
            "thirty (तीस): Before = 0.0955, After = 0.6106\n",
            "companies (कंपनियों): Before = 0.2175, After = 0.4593\n",
            "involved (में): Before = 0.0733, After = 0.4989\n",
            "only (में): Before = 0.1120, After = 0.5691\n",
            "nine (शुरू): Before = 0.1092, After = 0.4329\n",
            "legislator (ने): Before = 0.0167, After = 0.4038\n",
            "said (ब्राउन): Before = 0.0137, After = 0.3597\n",
            "quite (गुरुद्वारे): Before = 0.0744, After = 0.1995\n",
            "people (सुबह): Before = 0.1021, After = 0.2999\n",
            "visit (लोग): Before = 0.1185, After = 0.4368\n",
            "largest (तथा): Before = 0.0113, After = 0.4414\n",
            "including (टूरिज्म): Before = 0.0965, After = 0.2781\n",
            "deutsche (कुछ): Before = -0.0088, After = 0.2534\n",
            "students (वाले): Before = 0.0548, After = 0.3218\n",
            "admissions (पीएमटी): Before = -0.0351, After = 0.3653\n",
            "will (फाइनल): Before = 0.0122, After = 0.3875\n",
            "declared (हो): Before = 0.0681, After = 0.4250\n",
            "if (यदि): Before = -0.0089, After = 0.6740\n",
            "looking (के): Before = 0.0609, After = 0.3898\n",
            "extra (के): Before = 0.1038, After = 0.5495\n",
            "call (देख): Before = 0.0457, After = 0.5242\n",
            "tim (रहे): Before = 0.0633, After = 0.4480\n",
            "susan (फोन): Before = 0.0399, After = 0.5324\n",
            "bal (इस): Before = -0.0138, After = 0.4376\n",
            "gautam (रमेशचंद): Before = -0.1207, After = 0.4545\n",
            "ramesh (उमादत्त): Before = 0.0035, After = 0.3918\n",
            "thakur (गौतम): Before = 0.0081, After = 0.5749\n",
            "soon (जल्द): Before = 0.1277, After = 0.5280\n",
            "residential (ही): Before = 0.0117, After = 0.3960\n",
            "palaces (लखनऊ): Before = -0.0759, After = 0.5567\n",
            "on (शरीर): Before = 0.0251, After = 0.4772\n",
            "lines (की): Before = -0.0226, After = 0.4441\n",
            "lucknow (पर): Before = 0.0145, After = 0.4677\n",
            "noida (नए): Before = 0.0162, After = 0.5302\n",
            "new (के): Before = 0.0611, After = 0.5770\n",
            "law (ग्रुप): Before = -0.0252, After = 0.5060\n",
            "require (स्थिति): Before = 0.1058, After = 0.3455\n",
            "parents (को): Before = -0.0126, After = 0.4537\n",
            "declare (बच्चों): Before = -0.0257, After = 0.2512\n",
            "any (पार्टी): Before = 0.0174, After = 0.3599\n",
            "gender (लिए): Before = 0.0794, After = 0.5027\n",
            "investigating (आरम्भ): Before = 0.0963, After = 0.3857\n",
            "allegations (उप): Before = -0.0601, After = 0.5997\n",
            "knew (ओबामा): Before = -0.0457, After = 0.4885\n",
            "staff (कर्मचारियों): Before = 0.1244, After = 0.4939\n",
            "evidence (बचना): Before = -0.0490, After = 0.4729\n",
            "observed (बारे): Before = -0.0328, After = 0.4100\n",
            "breaches (में): Before = 0.0154, After = 0.4221\n",
            "being (मोदी): Before = 0.0097, After = 0.3276\n",
            "alone (साक्ष्यों): Before = 0.0730, After = 0.3170\n",
            "as (लोकसभा): Before = 0.0036, After = 0.4952\n",
            "result (व्यय): Before = 0.0229, After = 0.4555\n",
            "energy (और): Before = 0.1443, After = 0.5091\n",
            "policies (जर्मन): Before = 0.0574, After = 0.2903\n",
            "imposed (बाद): Before = 0.0435, After = 0.4911\n",
            "brussels (को): Before = -0.0895, After = 0.3838\n",
            "punjab (जमीन): Before = -0.0038, After = 0.4691\n",
            "government (को): Before = -0.0522, After = 0.4072\n",
            "passed (एनआरआई): Before = -0.0309, After = 0.3301\n",
            "tenancy (जायदाद): Before = 0.0479, After = 0.5368\n",
            "bill (अनुसार): Before = 0.0443, After = 0.4084\n",
            "agricultural (के): Before = 0.0452, After = 0.4707\n",
            "jenny (जेनी): Before = 0.0602, After = 0.6827\n",
            "slate (स्लेट): Before = 0.0342, After = 0.6163\n",
            "cast (पश्चात): Before = 0.0522, After = 0.4216\n",
            "both (एयरबस): Before = 0.0511, After = 0.3221\n",
            "it (लोकतांत्रिक): Before = 0.0986, After = 0.2048\n",
            "should (व्हाइट): Before = 0.0621, After = 0.2954\n",
            "noted (सिंह): Before = 0.0507, After = 0.2697\n",
            "singh (अध्यक्ष): Before = -0.0497, After = 0.3420\n",
            "had (मुआवजे): Before = 0.0929, After = 0.4288\n",
            "urged (में): Before = 0.1139, After = 0.3408\n",
            "gazprom (गैजप्रोम): Before = 0.0964, After = 0.2059\n",
            "construction (कहा): Before = -0.0291, After = 0.2561\n",
            "begin (साथ): Before = 0.0304, After = 0.4624\n",
            "downstream (तक): Before = 0.0576, After = 0.4694\n",
            "countries (में): Before = 0.1001, After = 0.5148\n",
            "available (पानी): Before = 0.1757, After = 0.3768\n",
            "wheel (से): Before = 0.0694, After = 0.3987\n",
            "boots (लेकर): Before = -0.0472, After = 0.5187\n",
            "along (मंदिर): Before = 0.0014, After = 0.3267\n",
            "everyone (बाद): Before = 0.0657, After = 0.3625\n",
            "wishes (लोग): Before = 0.0412, After = 0.4683\n",
            "wealth (और): Before = 0.0366, After = 0.4609\n",
            "success (की): Before = 0.0446, After = 0.4746\n",
            "depending (करते): Before = 0.0750, After = 0.3646\n",
            "how (में): Before = 0.0247, After = 0.3816\n",
            "suddenly (अचानक): Before = 0.0636, After = 0.4216\n",
            "he (गुजरात): Before = 0.0029, After = 0.3858\n",
            "attacked (एक): Before = 0.0236, After = 0.4952\n",
            "bear. (हमला): Before = 0.0134, After = 0.5011\n",
            "indian (भारतीय): Before = -0.0941, After = 0.4896\n",
            "batting (बल्लेबाजी): Before = -0.0292, After = 0.5358\n",
            "at (रोहन): Before = 0.0623, After = 0.6073\n",
            "its (विभाग): Before = 0.0686, After = 0.3982\n",
            "peak (पर): Before = 0.1257, After = 0.4542\n",
            "even (अपने): Before = 0.1211, After = 0.4782\n"
          ]
        }
      ],
      "source": [
        "def compare_alignment1():\n",
        "    print(\"\\n Cosine Similarity Before vs. After Alignment:\")\n",
        "\n",
        "    for i, (eng,hin) in enumerate(valid_pairs[:200]):\n",
        "        before = 1 - cosine(eng_vectors[i], hin_vectors[i])  # Before alignment\n",
        "        after = 1 - cosine(eng_vectors[i], hin_aligned[i])   # After alignment\n",
        "        print(f\"{eng} ({hin}): Before = {before:.4f}, After = {after:.4f}\")\n",
        "\n",
        "# Run the comparison\n",
        "compare_alignment1()"
      ]
    },
    {
      "cell_type": "code",
      "execution_count": 40,
      "metadata": {
        "colab": {
          "base_uri": "https://localhost:8080/",
          "height": 545
        },
        "id": "fMdtQKj41zHI",
        "outputId": "c773252d-bde7-49ef-bacf-52dff3d44a3d"
      },
      "outputs": [
        {
          "output_type": "display_data",
          "data": {
            "text/plain": [
              "<Figure size 1000x600 with 1 Axes>"
            ],
            "image/png": "[encoded data removed]"
          },
          "metadata": {}
        }
      ],
      "source": [
        "pca = PCA(n_components=2)\n",
        "eng_2d = pca.fit_transform(eng_vectors)\n",
        "hin_before_2d = pca.transform(hin_vectors)\n",
        "hin_after_2d = pca.transform(hin_aligned)\n",
        "\n",
        "plt.figure(figsize=(10, 6))\n",
        "\n",
        "# Plot embeddings\n",
        "plt.scatter(eng_2d[:, 0], eng_2d[:, 1], color=\"blue\", label=\"English\")\n",
        "plt.scatter(hin_before_2d[:, 0], hin_before_2d[:, 1], color=\"red\", alpha=0.5, label=\"Hindi (Before)\")\n",
        "plt.scatter(hin_after_2d[:, 0], hin_after_2d[:, 1], color=\"green\", alpha=0.7, label=\"Hindi (After)\")\n",
        "\n",
        "plt.title(\"Cross-Lingual Embedding Alignment (PCA Projection)\")\n",
        "plt.legend()\n",
        "plt.show()"
      ]
    },
    {
      "cell_type": "code",
      "execution_count": null,
      "metadata": {
        "id": "bstxe0Hn2C1v"
      },
      "outputs": [],
      "source": []
    }
  ],
  "metadata": {
    "colab": {
      "provenance": []
    },
    "kernelspec": {
      "display_name": "Python 3",
      "name": "python3"
    },
    "language_info": {
      "name": "python"
    }
  },
  "nbformat": 4,
  "nbformat_minor": 0
}